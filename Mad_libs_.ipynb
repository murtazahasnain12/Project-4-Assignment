{
  "nbformat": 4,
  "nbformat_minor": 0,
  "metadata": {
    "colab": {
      "provenance": [],
      "authorship_tag": "ABX9TyO88G3jnQZl7dW/faXRFnm0",
      "include_colab_link": true
    },
    "kernelspec": {
      "name": "python3",
      "display_name": "Python 3"
    },
    "language_info": {
      "name": "python"
    }
  },
  "cells": [
    {
      "cell_type": "markdown",
      "metadata": {
        "id": "view-in-github",
        "colab_type": "text"
      },
      "source": [
        "<a href=\"https://colab.research.google.com/github/murtazahasnain12/Project-4-Assignment/blob/main/Mad_libs_.ipynb\" target=\"_parent\"><img src=\"https://colab.research.google.com/assets/colab-badge.svg\" alt=\"Open In Colab\"/></a>"
      ]
    },
    {
      "cell_type": "code",
      "execution_count": 9,
      "metadata": {
        "colab": {
          "base_uri": "https://localhost:8080/"
        },
        "id": "I1tG1gZ5B9xZ",
        "outputId": "858b4a4d-b2cc-4656-dc85-7a731c5dbf9d"
      },
      "outputs": [
        {
          "output_type": "stream",
          "name": "stdout",
          "text": [
            "Adjective: Amazing\n",
            "Verb: skydive\n",
            "Verb: jump\n",
            "Famous Person: Barack obama\n",
            "Computer programming is so Amazing! It makes me so excited all the time because I love to skydive. Stay hydrated and jump like you are Barack obama!\n"
          ]
        }
      ],
      "source": [
        "adj= input(\"Adjective: \")\n",
        "verb1= input(\"Verb: \")\n",
        "verb2= input(\"Verb: \")\n",
        "famous_Person= input(\"Famous Person: \")\n",
        "madlib= f\"Computer programming is so {adj}! It makes me so excited all the time because \\\n",
        "I love to {verb1}. Stay hydrated and {verb2} like you are {famous_Person}!\"\n",
        "\n",
        "print(madlib)\n",
        "\n",
        "\n",
        "\n",
        "\n",
        "\n",
        "\n"
      ]
    },
    {
      "cell_type": "markdown",
      "source": [
        "# New Section"
      ],
      "metadata": {
        "id": "VEvVvpEIVD-b"
      }
    }
  ]
}